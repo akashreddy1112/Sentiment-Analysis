{
 "cells": [
  {
   "cell_type": "code",
   "execution_count": 1,
   "id": "ecd91bce-b262-4312-a20a-fc25b286cc1d",
   "metadata": {},
   "outputs": [],
   "source": [
    "import pickle\n",
    "with open('tokenizer.pickle', 'rb') as  handlesentiment:\n",
    "    tokenizer = pickle.load(handlesentiment)"
   ]
  },
  {
   "cell_type": "code",
   "execution_count": 2,
   "id": "3d27e694-91eb-4e80-94ac-4a9bf522e1b3",
   "metadata": {},
   "outputs": [],
   "source": [
    "from tensorflow.keras.models import load_model\n",
    "model = load_model('Lstm.h5')"
   ]
  },
  {
   "cell_type": "code",
   "execution_count": 6,
   "id": "27420927-9ec2-4ae8-be8d-93daae383dec",
   "metadata": {},
   "outputs": [],
   "source": [
    "from tensorflow.keras.preprocessing.sequence import pad_sequences\n",
    "def preprocess_input(text, tokenizer, max_length):\n",
    "    sequences = tokenizer.texts_to_sequences([text])\n",
    "    padded = pad_sequences(sequences, maxlen=max_length, padding='post')\n",
    "    return padded\n",
    "def predict_sentiment(text):\n",
    "    max_length = 32  # Same as used during training\n",
    "    preprocessed_text = preprocess_input(text, tokenizer, max_length)\n",
    "    prediction = model.predict(preprocessed_text)\n",
    "    sentiment = \"Positive\" if prediction[0][0] > 0.5 else \"Negative\"\n",
    "    return sentiment, prediction[0][0]"
   ]
  },
  {
   "cell_type": "code",
   "execution_count": 7,
   "id": "34cb805c-68ba-4962-b7ab-c86392214d3a",
   "metadata": {},
   "outputs": [
    {
     "name": "stdin",
     "output_type": "stream",
     "text": [
      "Enter your sentiment I am sad\n"
     ]
    }
   ],
   "source": [
    "text=input(\"Enter your sentiment\")"
   ]
  },
  {
   "cell_type": "code",
   "execution_count": 8,
   "id": "02ec5a0d-e3c5-403b-b004-dedaf677482a",
   "metadata": {},
   "outputs": [],
   "source": [
    "sentiment, score = predict_sentiment(text)"
   ]
  },
  {
   "cell_type": "code",
   "execution_count": 9,
   "id": "385c54e9-73a1-4e84-a4df-5083db7e6754",
   "metadata": {},
   "outputs": [
    {
     "name": "stdout",
     "output_type": "stream",
     "text": [
      "Input text: 'I am sad' - Sentiment: Negative -Score:0.0016570687294006348\n"
     ]
    }
   ],
   "source": [
    "print(f\"Input text: '{text}' - Sentiment: {sentiment} -Score:{score}\")"
   ]
  },
  {
   "cell_type": "code",
   "execution_count": null,
   "id": "64a7be88-6620-4cbd-b0b1-b9ec80e36a6b",
   "metadata": {},
   "outputs": [],
   "source": []
  }
 ],
 "metadata": {
  "kernelspec": {
   "display_name": "Python 3 (ipykernel)",
   "language": "python",
   "name": "python3"
  },
  "language_info": {
   "codemirror_mode": {
    "name": "ipython",
    "version": 3
   },
   "file_extension": ".py",
   "mimetype": "text/x-python",
   "name": "python",
   "nbconvert_exporter": "python",
   "pygments_lexer": "ipython3",
   "version": "3.9.18"
  }
 },
 "nbformat": 4,
 "nbformat_minor": 5
}
